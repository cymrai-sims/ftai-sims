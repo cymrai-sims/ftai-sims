{
 "cells": [
  {
   "cell_type": "code",
   "execution_count": null,
   "id": "8768bde1",
   "metadata": {},
   "outputs": [],
   "source": [
    "from ollama import chat\n",
    "\n",
    "stream = chat(\n",
    "    model='ava2540',\n",
    "    messages=[{'role': 'user', 'content': 'Why is the sky blue?'}],\n",
    "    stream=False,\n",
    ")\n",
    "\n",
    "print(stream.message.content)"
   ]
  },
  {
   "cell_type": "code",
   "execution_count": 18,
   "id": "6473545e",
   "metadata": {},
   "outputs": [
    {
     "data": {
      "text/plain": [
       "'The sky appears blue because of a phenomenon called Rayleigh scattering. When sunlight enters Earth’s atmosphere, it encounters tiny molecules of gases such as nitrogen and oxygen. These molecules scatter the light in all directions, but they scatter shorter (blue) wavelengths more than longer (red) wavelengths. This is why the sky generally appears blue during the daytime.'"
      ]
     },
     "execution_count": 18,
     "metadata": {},
     "output_type": "execute_result"
    }
   ],
   "source": [
    "stream['message']['content']"
   ]
  },
  {
   "cell_type": "code",
   "execution_count": 3,
   "id": "6a8da60c",
   "metadata": {},
   "outputs": [
    {
     "name": "stdout",
     "output_type": "stream",
     "text": [
      "Error: 404\n",
      "{\"error\":{\"code\":\"DeploymentNotFound\",\"message\":\"The API deployment for this resource does not exist. If you created the deployment within the last 5 minutes, please wait a moment and try again.\"}}\n"
     ]
    }
   ],
   "source": [
    "import requests\n",
    "import json\n",
    "\n",
    "# Your Azure OpenAI config\n",
    "endpoint = \"https://sims-openai-dev.openai.azure.com\"\n",
    "deployment_id = \"gpt-35-turbo\"  # Replace with your actual deployment name\n",
    "api_key = \"ETXAaUraQFz9ZJcYXS1i16WRsgjPTpYdEN8Cdf5NlHz3bNx1XgU1JQQJ99BGACYeBjFXJ3w3AAABACOGViby\"\n",
    "api_version = \"2025-04-01-preview\"\n",
    "\n",
    "# URL to call\n",
    "url = f\"{endpoint}/openai/deployments/{deployment_id}/chat/completions?api-version={api_version}\"\n",
    "\n",
    "# Headers\n",
    "headers = {\n",
    "    \"Content-Type\": \"application/json\",\n",
    "    \"api-key\": api_key\n",
    "}\n",
    "\n",
    "# Chat body\n",
    "data = {\n",
    "    \"messages\": [\n",
    "        {\"role\": \"system\", \"content\": \"You are a helpful assistant.\"},\n",
    "        {\"role\": \"user\", \"content\": \"Hello, what can you do?\"}\n",
    "    ],\n",
    "    \"temperature\": 0.7,\n",
    "    \"max_tokens\": 100,\n",
    "    \"top_p\": 1,\n",
    "    \"frequency_penalty\": 0,\n",
    "    \"presence_penalty\": 0\n",
    "}\n",
    "\n",
    "# Make the POST request\n",
    "response = requests.post(url, headers=headers, data=json.dumps(data))\n",
    "\n",
    "# Handle response\n",
    "if response.status_code == 200:\n",
    "    result = response.json()\n",
    "    print(\"Assistant:\", result[\"choices\"][0][\"message\"][\"content\"])\n",
    "else:\n",
    "    print(\"Error:\", response.status_code)\n",
    "    print(response.text)\n"
   ]
  }
 ],
 "metadata": {
  "kernelspec": {
   "display_name": "f5tts",
   "language": "python",
   "name": "python3"
  },
  "language_info": {
   "codemirror_mode": {
    "name": "ipython",
    "version": 3
   },
   "file_extension": ".py",
   "mimetype": "text/x-python",
   "name": "python",
   "nbconvert_exporter": "python",
   "pygments_lexer": "ipython3",
   "version": "3.10.16"
  }
 },
 "nbformat": 4,
 "nbformat_minor": 5
}
